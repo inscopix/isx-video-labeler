{
 "cells": [
  {
   "cell_type": "code",
   "execution_count": 1,
   "metadata": {},
   "outputs": [],
   "source": [
    "from videolabeler import utils as vl\n",
    "import numpy as np\n",
    "import cv2\n",
    "from tqdm.notebook import tqdm\n",
    "import pandas as pd\n",
    "import os"
   ]
  },
  {
   "cell_type": "markdown",
   "metadata": {},
   "source": [
    "## Load in data"
   ]
  },
  {
   "cell_type": "code",
   "execution_count": 2,
   "metadata": {},
   "outputs": [],
   "source": [
    "movie_file = '/Users/shayneufeld/Downloads/Basler_acA1300-60gm__21503351__20191212_131714734.mp4'\n",
    "labels_file = '/Users/shayneufeld/Dropbox/inscopix/Basler-acA1300-labels-shay.csv'\n",
    "batch_size = 250\n",
    "label_dict= {'i':'INTERP','s':'still','r':'rearing','w':'walking',\n",
    "             't':'turning','g':'grooming','e':'eating'}"
   ]
  },
  {
   "cell_type": "code",
   "execution_count": 3,
   "metadata": {},
   "outputs": [
    {
     "name": "stdin",
     "output_type": "stream",
     "text": [
      "Continue labeling? (N will overwrite existing /Users/shayneufeld/Dropbox/inscopix/Basler-acA1300-labels-shay.csv file) [y/N]:  y\n"
     ]
    },
    {
     "name": "stdout",
     "output_type": "stream",
     "text": [
      "Loaded in /Users/shayneufeld/Downloads/Basler_acA1300-60gm__21503351__20191212_131714734.mp4\n",
      "1999.0 frames already labeled\n"
     ]
    },
    {
     "data": {
      "application/vnd.jupyter.widget-view+json": {
       "model_id": "e63ee50cafca47c4a895bfae80f6b691",
       "version_major": 2,
       "version_minor": 0
      },
      "text/plain": [
       "HBox(children=(FloatProgress(value=0.0, max=250.0), HTML(value='')))"
      ]
     },
     "metadata": {},
     "output_type": "display_data"
    },
    {
     "name": "stdout",
     "output_type": "stream",
     "text": [
      "\n"
     ]
    },
    {
     "name": "stdin",
     "output_type": "stream",
     "text": [
      "Save labels? [y/n]:  y\n"
     ]
    },
    {
     "name": "stdout",
     "output_type": "stream",
     "text": [
      "2250 out of 23597.0 frames labeled (9.54 %)\n"
     ]
    },
    {
     "name": "stdin",
     "output_type": "stream",
     "text": [
      "Label next batch? [y/n]:  n\n"
     ]
    }
   ],
   "source": [
    "vl.batchFrameLabel(video_file=movie_file,labels_file=labels_file,batch_size=250,label_dict=label_dict)"
   ]
  }
 ],
 "metadata": {
  "kernelspec": {
   "display_name": "Python 3",
   "language": "python",
   "name": "python3"
  },
  "language_info": {
   "codemirror_mode": {
    "name": "ipython",
    "version": 3
   },
   "file_extension": ".py",
   "mimetype": "text/x-python",
   "name": "python",
   "nbconvert_exporter": "python",
   "pygments_lexer": "ipython3",
   "version": "3.6.7"
  }
 },
 "nbformat": 4,
 "nbformat_minor": 4
}
