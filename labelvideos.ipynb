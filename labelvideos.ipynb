{
 "cells": [
  {
   "cell_type": "markdown",
   "metadata": {},
   "source": [
    "# Label video frames for training supervised ML models\n",
    "\n",
    "Simple approach to loading in a movie and allowing the user to label each frame using keystrokes assigned to particular behaviors"
   ]
  },
  {
   "cell_type": "code",
   "execution_count": 13,
   "metadata": {},
   "outputs": [],
   "source": [
    "import cv2\n",
    "import numpy as np\n",
    "from tqdm.notebook import tqdm\n",
    "from tqdm import tnrange\n",
    "import numpy as np"
   ]
  },
  {
   "cell_type": "code",
   "execution_count": 4,
   "metadata": {},
   "outputs": [],
   "source": [
    "#####################################################\n",
    "####### Load Video Frames ##########################\n",
    "#####################################################\n",
    "def LoadVideoFrames(video_file,num_frames=None):\n",
    "    video = cv2.VideoCapture(file)\n",
    "    frames = []\n",
    "    \n",
    "    if num_frames is None:\n",
    "        num_frames = int(video.get(cv2.CAP_PROP_FRAME_COUNT))\n",
    "\n",
    "    for i in tqdm(range(num_frames),desc='Loading video'):\n",
    "        # Read video capture\n",
    "        ret, frame = video.read()\n",
    "        gray=cv2.cvtColor(frame,cv2.COLOR_BGR2GRAY)\n",
    "\n",
    "        frames.append(gray)\n",
    "\n",
    "        key = cv2.waitKey(1)\n",
    "\n",
    "    video.release()\n",
    "    \n",
    "    return frames\n",
    "\n",
    "#####################################################\n",
    "####### Play Video Frames ###########################\n",
    "#####################################################\n",
    "def PlayVideoFrames(frames):\n",
    "    \n",
    "    playVideo = True\n",
    "\n",
    "    frame_counter = 0\n",
    "    while playVideo is True:\n",
    "\n",
    "        frame = frames[frame_counter]\n",
    "        cv2.imshow('video',frame)\n",
    "\n",
    "        key = cv2.waitKey(0)\n",
    "\n",
    "        while key not in [ord('q'),ord(','),ord('.')]:\n",
    "            key = cv2.waitKey(0)\n",
    "\n",
    "        if key == ord('.'):\n",
    "            frame_counter += 1\n",
    "        elif key == ord(','):\n",
    "            frame_counter -= 1\n",
    "        if key == ord('q'):\n",
    "            break\n",
    "            \n",
    "    cv2.destroyAllWindows()\n",
    "\n",
    "#####################################################\n",
    "####### Play & Label Video Frames ###################\n",
    "#####################################################\n",
    "def on_trackbar(val):\n",
    "    return\n",
    "\n",
    "def PlayAndLabelFrames(frames,label_dict = {'w':'walking','t':'turning','s':'standing'}):\n",
    "    '''\n",
    "    Set up variables\n",
    "    '''\n",
    "    #create numpy array to store the labels. Initialize as strings of zeros\n",
    "    labels = np.zeros(len(frames)).astype('str')\n",
    "\n",
    "    #get the key ords and names for each label\n",
    "    label_ords = [ord(k) for k in list(label_dict.keys())]\n",
    "    label_names = list(label_dict.values())\n",
    "    #create a dictionary that maps the key ords to the label names\n",
    "    #i.e. replacing keystrokes with key ords as the dict keys\n",
    "    label_key_dict = {}\n",
    "    for label_ord,label_name in zip(label_ords,label_names):\n",
    "        label_key_dict[label_ord] = label_name\n",
    "\n",
    "    #initialize frame_counter, set PlayVideo boolean to True, and start displaying video\n",
    "    #for labeling\n",
    "    playVideo = True\n",
    "    frame_counter = 0\n",
    "\n",
    "    # create display window\n",
    "    cv2.namedWindow('Video',cv2.WINDOW_NORMAL)\n",
    "    cv2.resizeWindow('Video',800,800)\n",
    "    cv2.createTrackbar('frame', 'Video', 0,len(frames),on_trackbar)\n",
    "    '''\n",
    "    Play & Label Video\n",
    "    '''\n",
    "    while playVideo is True:\n",
    "\n",
    "        #if at the end of the video, loop back to beginning\n",
    "        if frame_counter == len(frames):\n",
    "            frame_counter -= len(frames)\n",
    "\n",
    "        #get current frame & display it\n",
    "        frame_counter = cv2.getTrackbarPos('frame','Video')\n",
    "        frame = frames[frame_counter]\n",
    "        cv2.imshow('Video',frame)\n",
    "\n",
    "        #wait for keypress\n",
    "        key = cv2.waitKey(0)\n",
    "\n",
    "        '''\n",
    "        Check to see if the user pressed any of the label keys\n",
    "        '''\n",
    "        if key in label_ords:\n",
    "            #get the label name\n",
    "            label = label_key_dict[key]\n",
    "            #annotate the frame with the label text\n",
    "            cv2.rectangle(frame,(0,1024),(250,950),(0,0,0),-1) #need a solid background so that...\n",
    "            #...the labels can be overwritten\n",
    "            cv2.putText(frame,label,(0,1000),cv2.FONT_HERSHEY_COMPLEX,1,(255,255,255),2,cv2.LINE_AA)\n",
    "\n",
    "            #update the frame (with annotation)\n",
    "            frames[frame_counter] = frame\n",
    "            #update the label array with current label\n",
    "            labels[frame_counter] = label\n",
    "\n",
    "            '''\n",
    "        Now check to see if the user to trying to control the playback\n",
    "        '''\n",
    "        elif key == ord(','): # if `<` then go back\n",
    "            frame_counter -= 1\n",
    "            cv2.setTrackbarPos(\"frame\",\"Video\", frame_counter)\n",
    "\n",
    "        elif key == ord('.'): # if `>` then advance\n",
    "            frame_counter += 1\n",
    "            cv2.setTrackbarPos(\"frame\",\"Video\", frame_counter)\n",
    "\n",
    "        elif key == ord('q'): #if `q` then quit\n",
    "            playVideo = False\n",
    "\n",
    "\n",
    "    #close any opencv windows    \n",
    "    cv2.destroyAllWindows()\n",
    "    \n",
    "    #return labels\n",
    "    return labels"
   ]
  },
  {
   "cell_type": "code",
   "execution_count": 3,
   "metadata": {},
   "outputs": [],
   "source": [
    "label_dict = {'w':'walking','t':'turning','s':'standing'}"
   ]
  },
  {
   "cell_type": "code",
   "execution_count": 5,
   "metadata": {},
   "outputs": [
    {
     "data": {
      "application/vnd.jupyter.widget-view+json": {
       "model_id": "7569b98f37c444bb88f79b558a8bbbbc",
       "version_major": 2,
       "version_minor": 0
      },
      "text/plain": [
       "HBox(children=(IntProgress(value=0, description='Loading video', style=ProgressStyle(description_width='initia…"
      ]
     },
     "metadata": {},
     "output_type": "display_data"
    },
    {
     "name": "stdout",
     "output_type": "stream",
     "text": [
      "\n"
     ]
    }
   ],
   "source": [
    "#%%time\n",
    "file = '/home/sneufeld/Desktop/752_openfield.avi'\n",
    "num_frames = 100\n",
    "frames = LoadVideoFrames(file,num_frames)"
   ]
  },
  {
   "cell_type": "code",
   "execution_count": 6,
   "metadata": {},
   "outputs": [],
   "source": [
    "labels = PlayAndLabelFrames(frames)"
   ]
  },
  {
   "cell_type": "code",
   "execution_count": 63,
   "metadata": {},
   "outputs": [],
   "source": [
    "def interpolate_labels(labels):\n",
    "    '''\n",
    "    Interpolate frame labels for unlabeled frames where the previous labeled frame and the next labeled frame have the same label. \n",
    "    IE. a sequence of ['standing','nolabel','nolabel','standing','walking','nolabel'] is transformed to:\n",
    "    ['standing','standing','standing','standing','walking','nolabel']\n",
    "    \n",
    "    Note that the last unlabeled frame is not interpolated, since there was no labeled frame following it. The same thing happens\n",
    "    for unlabeled frames that occur before the first labeled frame. \n",
    "    '''\n",
    "    nolab_frames = np.where(labels == '0.0')[0]\n",
    "    lab_frames = np.where(labels != '0.0')[0]\n",
    "    labels_interp = labels.copy()\n",
    "\n",
    "    for nolab_frame in nolab_frames:\n",
    "\n",
    "        if ((nolab_frame > 0) & (np.where(lab_frames > nolab_frame)[0].size>0)):\n",
    "\n",
    "            label_prev = labels_interp[nolab_frame-1]\n",
    "            label_next = labels_interp[lab_frames[np.where(lab_frames > nolab_frame)[0][0]]]\n",
    "\n",
    "            if label_prev == label_next:\n",
    "                labels_interp[nolab_frame] = label_prev\n",
    "    \n",
    "    return labels_interp"
   ]
  },
  {
   "cell_type": "code",
   "execution_count": 70,
   "metadata": {},
   "outputs": [],
   "source": [
    "def annotate_frames(frames,labels):\n",
    "    \n",
    "    frames_out = frames.copy()\n",
    "    \n",
    "    num_frames = len(frames)\n",
    "    num_labels = labels.shape[0]\n",
    "    \n",
    "    assert num_frames == num_labels,'number of frames must equal number of labels'\n",
    "    \n",
    "\n",
    "    for i in range(num_frames):\n",
    "        \n",
    "        frame = frames_out[i]\n",
    "        label = labels[i]\n",
    "        \n",
    "        if label is not '0.0':\n",
    "            #annotate the frame with the label text\n",
    "            cv2.rectangle(frame,(0,1024),(250,950),(0,0,0),-1) #need a solid background so that...\n",
    "            #...the labels can be overwritten\n",
    "            cv2.putText(frame,label,(0,1000),cv2.FONT_HERSHEY_COMPLEX,1,(255,255,255),2,cv2.LINE_AA)\n",
    "            \n",
    "            #overwrite the frame\n",
    "            frames_out[i] = frame\n",
    "    \n",
    "    return frames_out"
   ]
  },
  {
   "cell_type": "code",
   "execution_count": 88,
   "metadata": {},
   "outputs": [],
   "source": [
    "def frames2video(video_name,frames,fps):\n",
    "    \n",
    "    size = frames[0].shape\n",
    "    print(size)\n",
    "    #video = cv2.VideoWriter(video_name,cv2.VideoWriter_fourcc(*'DIVX'),fps,size)\n",
    "    video = cv2.VideoWriter(video_name,-1,fps,(size[1],size[0]))\n",
    "    for frame in frames:\n",
    "        video.write(frame)\n",
    "    video.release()"
   ]
  },
  {
   "cell_type": "code",
   "execution_count": 77,
   "metadata": {},
   "outputs": [
    {
     "data": {
      "text/plain": [
       "(1024, 1280)"
      ]
     },
     "execution_count": 77,
     "metadata": {},
     "output_type": "execute_result"
    }
   ],
   "source": [
    "frames[0].shape"
   ]
  },
  {
   "cell_type": "code",
   "execution_count": 79,
   "metadata": {},
   "outputs": [
    {
     "data": {
      "text/plain": [
       "(1024, 1280)"
      ]
     },
     "execution_count": 79,
     "metadata": {},
     "output_type": "execute_result"
    }
   ],
   "source": [
    "frames_new[0].shape"
   ]
  },
  {
   "cell_type": "code",
   "execution_count": 61,
   "metadata": {},
   "outputs": [],
   "source": [
    "labels_interp = interpolate_labels(labels)"
   ]
  },
  {
   "cell_type": "code",
   "execution_count": 72,
   "metadata": {},
   "outputs": [],
   "source": [
    "frames_new = annotate_frames(frames,labels_interp)"
   ]
  },
  {
   "cell_type": "code",
   "execution_count": 99,
   "metadata": {},
   "outputs": [
    {
     "name": "stdout",
     "output_type": "stream",
     "text": [
      "(1024, 1280)\n"
     ]
    }
   ],
   "source": [
    "video_name = '/home/sneufeld/Desktop/video.avi'\n",
    "\n",
    "size = frames_new[0].shape\n",
    "width = size[1]\n",
    "height = size[0]\n",
    "\n",
    "fps = 30\n",
    "print(size)\n",
    "#video = cv2.VideoWriter(video_name,cv2.VideoWriter_fourcc(*'DIVX'),fps,size)\n",
    "video = cv2.VideoWriter(video_name,cv2.VideoWriter_fourcc(*'DIVX'),fps,(width,height))\n",
    "for frame in frames_new:\n",
    "    video.write(frame)\n",
    "video.release()"
   ]
  },
  {
   "cell_type": "code",
   "execution_count": 91,
   "metadata": {},
   "outputs": [
    {
     "data": {
      "text/plain": [
       "array(['0.0', '0.0', '0.0', '0.0', 'turning', 'turning', 'turning',\n",
       "       'turning', 'turning', 'turning', 'turning', 'turning', 'turning',\n",
       "       'turning', 'turning', 'turning', 'turning', 'turning', 'turning',\n",
       "       'turning', 'turning', 'turning', 'turning', 'turning', 'turning',\n",
       "       'turning', 'turning', 'turning', 'turning', 'turning', 'turning',\n",
       "       'turning', 'turning', 'turning', 'turning', 'turning', 'turning',\n",
       "       'turning', 'turning', 'turning', 'turning', 'turning', 'turning',\n",
       "       'turning', 'turning', 'turning', 'turning', 'turning', 'turning',\n",
       "       'turning', 'turning', 'turning', 'turning', 'turning', 'turning',\n",
       "       'turning', 'turning', 'turning', 'turning', 'turning', 'turning',\n",
       "       'turning', 'turning', 'turning', 'turning', 'turning', 'turning',\n",
       "       'walking', 'walking', 'walking', 'walking', 'walking', 'walking',\n",
       "       'standing', 'standing', 'standing', 'standing', 'standing',\n",
       "       'standing', 'standing', 'standing', 'standing', 'standing',\n",
       "       'standing', 'standing', '0.0', '0.0', '0.0', '0.0', '0.0', '0.0',\n",
       "       '0.0', '0.0', '0.0', '0.0', '0.0', '0.0', '0.0', '0.0', '0.0'],\n",
       "      dtype='<U32')"
      ]
     },
     "execution_count": 91,
     "metadata": {},
     "output_type": "execute_result"
    }
   ],
   "source": [
    "labels_interp"
   ]
  },
  {
   "cell_type": "code",
   "execution_count": 58,
   "metadata": {},
   "outputs": [
    {
     "data": {
      "text/plain": [
       "array([67, 68, 69, 70, 71, 72])"
      ]
     },
     "execution_count": 58,
     "metadata": {},
     "output_type": "execute_result"
    }
   ],
   "source": [
    "np.where(labels == 'walking')[0]"
   ]
  },
  {
   "cell_type": "code",
   "execution_count": 59,
   "metadata": {},
   "outputs": [
    {
     "data": {
      "text/plain": [
       "array([67, 68, 69, 70, 71, 72])"
      ]
     },
     "execution_count": 59,
     "metadata": {},
     "output_type": "execute_result"
    }
   ],
   "source": [
    "np.where(labels_interp == 'walking')[0]"
   ]
  },
  {
   "cell_type": "code",
   "execution_count": 24,
   "metadata": {},
   "outputs": [
    {
     "data": {
      "text/plain": [
       "array([ 4,  5,  6,  7,  8,  9, 12, 19, 26, 55, 59, 60, 61, 62, 63, 64, 65,\n",
       "       66, 67, 68, 69, 70, 71, 72, 73, 74, 75, 76, 77, 84])"
      ]
     },
     "execution_count": 24,
     "metadata": {},
     "output_type": "execute_result"
    }
   ],
   "source": [
    "lab_frames[0]"
   ]
  },
  {
   "cell_type": "code",
   "execution_count": 33,
   "metadata": {},
   "outputs": [
    {
     "data": {
      "text/plain": [
       "array([ 0,  1,  2,  3, 10, 11, 13, 14, 15, 16, 17, 18, 20, 21, 22, 23, 24,\n",
       "       25, 27, 28, 29, 30, 31, 32, 33, 34, 35, 36, 37, 38, 39, 40, 41, 42,\n",
       "       43, 44, 45, 46, 47, 48, 49, 50, 51, 52, 53, 54, 56, 57, 58, 78, 79,\n",
       "       80, 81, 82, 83, 85, 86, 87, 88, 89, 90, 91, 92, 93, 94, 95, 96, 97,\n",
       "       98, 99])"
      ]
     },
     "execution_count": 33,
     "metadata": {},
     "output_type": "execute_result"
    }
   ],
   "source": [
    "nolab_frames"
   ]
  },
  {
   "cell_type": "code",
   "execution_count": 27,
   "metadata": {},
   "outputs": [
    {
     "data": {
      "text/plain": [
       "array([ 4,  5,  6,  7,  8,  9, 12, 19, 26, 55, 59, 60, 61, 62, 63, 64, 65,\n",
       "       66, 67, 68, 69, 70, 71, 72, 73, 74, 75, 76, 77, 84])"
      ]
     },
     "execution_count": 27,
     "metadata": {},
     "output_type": "execute_result"
    }
   ],
   "source": [
    "lab_frames"
   ]
  },
  {
   "cell_type": "code",
   "execution_count": 32,
   "metadata": {},
   "outputs": [
    {
     "data": {
      "text/plain": [
       "'turning'"
      ]
     },
     "execution_count": 32,
     "metadata": {},
     "output_type": "execute_result"
    }
   ],
   "source": [
    "labels[lab_frames[np.where(lab_frames > 10)[0][0]]]"
   ]
  },
  {
   "cell_type": "code",
   "execution_count": 9,
   "metadata": {},
   "outputs": [
    {
     "data": {
      "text/plain": [
       "(array([ 0,  1,  2,  3, 10, 11, 13, 14, 15, 16, 17, 18, 20, 21, 22, 23, 24,\n",
       "        25, 27, 28, 29, 30, 31, 32, 33, 34, 35, 36, 37, 38, 39, 40, 41, 42,\n",
       "        43, 44, 45, 46, 47, 48, 49, 50, 51, 52, 53, 54, 56, 57, 58, 78, 79,\n",
       "        80, 81, 82, 83, 85, 86, 87, 88, 89, 90, 91, 92, 93, 94, 95, 96, 97,\n",
       "        98, 99]),)"
      ]
     },
     "execution_count": 9,
     "metadata": {},
     "output_type": "execute_result"
    }
   ],
   "source": [
    "for nolab_start,nolab_end in zip(unlabeled_frames[:-1],unlabeled_frames[1:]:\n",
    "    \n",
    "    if nolab_start > 0:\n",
    "        #previous label is easy\n",
    "        label_prev = labels[nolab_start - 1]\n",
    "        #next label is harder - requires peeking into the labeled frame indices array\n",
    "                            \n",
    "        label_next = labels[nolab_end + 1]\n",
    "        \n",
    "        if label_prev == label_next:\n",
    "            \n",
    "        "
   ]
  },
  {
   "cell_type": "code",
   "execution_count": 12,
   "metadata": {},
   "outputs": [
    {
     "data": {
      "text/plain": [
       "'turning'"
      ]
     },
     "execution_count": 12,
     "metadata": {},
     "output_type": "execute_result"
    }
   ],
   "source": [
    "nolab_start = labels[4]\n",
    "nolab_start"
   ]
  },
  {
   "cell_type": "code",
   "execution_count": 10,
   "metadata": {},
   "outputs": [
    {
     "data": {
      "text/plain": [
       "(array([ 4,  5,  6,  7,  8,  9, 12, 19, 26, 55, 59, 60, 61, 62, 63, 64, 65,\n",
       "        66, 67, 68, 69, 70, 71, 72, 73, 74, 75, 76, 77, 84]),)"
      ]
     },
     "execution_count": 10,
     "metadata": {},
     "output_type": "execute_result"
    }
   ],
   "source": [
    "nolab_frames = np.where(labels != '0.0')\n",
    "nolab_frames"
   ]
  }
 ],
 "metadata": {
  "kernelspec": {
   "display_name": "Python 3",
   "language": "python",
   "name": "python3"
  },
  "language_info": {
   "codemirror_mode": {
    "name": "ipython",
    "version": 3
   },
   "file_extension": ".py",
   "mimetype": "text/x-python",
   "name": "python",
   "nbconvert_exporter": "python",
   "pygments_lexer": "ipython3",
   "version": "3.6.7"
  }
 },
 "nbformat": 4,
 "nbformat_minor": 4
}
