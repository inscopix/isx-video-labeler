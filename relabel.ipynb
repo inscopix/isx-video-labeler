{
 "cells": [
  {
   "cell_type": "code",
   "execution_count": 7,
   "metadata": {},
   "outputs": [],
   "source": [
    "from videolabeler import utils as vl\n",
    "import numpy as np\n",
    "import cv2\n",
    "from tqdm.notebook import tqdm\n",
    "import pandas as pd\n",
    "import os"
   ]
  },
  {
   "cell_type": "code",
   "execution_count": 8,
   "metadata": {},
   "outputs": [],
   "source": [
    "movie_file = '/Users/mtugsbayar/Downloads/vid-label/OM013_tiffs/'\n",
    "movie_dir = '/Users/mtugsbayar/Downloads/vid-label/OM013_tiffs/'\n",
    "labels_file = '/Users/mtugsbayar/Downloads/vid-label/OM13/OM013-labels-consensus.csv'\n",
    "batch_size = 500"
   ]
  },
  {
   "cell_type": "code",
   "execution_count": 9,
   "metadata": {},
   "outputs": [
    {
     "ename": "TypeError",
     "evalue": "relabelTiff() got an unexpected keyword argument 'video_file'",
     "output_type": "error",
     "traceback": [
      "\u001b[1;31m---------------------------------------------------------------------------\u001b[0m",
      "\u001b[1;31mTypeError\u001b[0m                                 Traceback (most recent call last)",
      "\u001b[1;32m<ipython-input-9-f91f99a55934>\u001b[0m in \u001b[0;36m<module>\u001b[1;34m\u001b[0m\n\u001b[0;32m      1\u001b[0m \u001b[1;31m##For video inputs\u001b[0m\u001b[1;33m\u001b[0m\u001b[1;33m\u001b[0m\u001b[1;33m\u001b[0m\u001b[0m\n\u001b[0;32m      2\u001b[0m \u001b[1;33m\u001b[0m\u001b[0m\n\u001b[1;32m----> 3\u001b[1;33m \u001b[0mvl\u001b[0m\u001b[1;33m.\u001b[0m\u001b[0mrelabelTiff\u001b[0m\u001b[1;33m(\u001b[0m\u001b[0mvideo_file\u001b[0m\u001b[1;33m=\u001b[0m\u001b[0mmovie_file\u001b[0m\u001b[1;33m,\u001b[0m\u001b[0mlabels_file\u001b[0m\u001b[1;33m=\u001b[0m\u001b[0mlabels_file\u001b[0m\u001b[1;33m,\u001b[0m\u001b[0mbatch_size\u001b[0m\u001b[1;33m=\u001b[0m\u001b[0mbatch_size\u001b[0m\u001b[1;33m)\u001b[0m\u001b[1;33m\u001b[0m\u001b[1;33m\u001b[0m\u001b[0m\n\u001b[0m",
      "\u001b[1;31mTypeError\u001b[0m: relabelTiff() got an unexpected keyword argument 'video_file'"
     ]
    }
   ],
   "source": [
    "##For video inputs\n",
    "\n",
    "vl.relabelTiff(video_file=movie_file,labels_file=labels_file,batch_size=batch_size)"
   ]
  },
  {
   "cell_type": "code",
   "execution_count": 3,
   "metadata": {},
   "outputs": [
    {
     "name": "stdout",
     "output_type": "stream",
     "text": [
      "Labeler name: m\n",
      "What frame do you want to start relabeling? [enter an integer]: 0\n",
      " \n",
      "    Navigation\n",
      "    < : previous frame\n",
      "    > : next frame\n",
      "    Backspace : delete label\n",
      "    x : quit\n",
      "        \n",
      "Labels\n",
      "i : INTERP\n",
      "s : still\n",
      "r : rearing\n",
      "w : walking\n",
      "q : left turn\n",
      "e : right turn\n",
      "a : left turn [still]\n",
      "d : right turn [still]\n",
      "g : grooming\n",
      "m : eating\n",
      "t : explore\n",
      "l : leap\n",
      "Save labels? [y/n]: n\n",
      "Continue to label? \"n\" for no, \"r\" for relabel current batch, or \"c\" for continue to next batch [n/r/c]: n\n"
     ]
    }
   ],
   "source": [
    "##For tiff inputs\n",
    "\n",
    "vl.relabelTiff(video_dir=movie_dir,labels_file=labels_file,batch_size=batch_size)"
   ]
  },
  {
   "cell_type": "code",
   "execution_count": null,
   "metadata": {},
   "outputs": [],
   "source": []
  }
 ],
 "metadata": {
  "kernelspec": {
   "display_name": "Python 3",
   "language": "python",
   "name": "python3"
  },
  "language_info": {
   "codemirror_mode": {
    "name": "ipython",
    "version": 3
   },
   "file_extension": ".py",
   "mimetype": "text/x-python",
   "name": "python",
   "nbconvert_exporter": "python",
   "pygments_lexer": "ipython3",
   "version": "3.6.7"
  },
  "varInspector": {
   "cols": {
    "lenName": 16,
    "lenType": 16,
    "lenVar": 40
   },
   "kernels_config": {
    "python": {
     "delete_cmd_postfix": "",
     "delete_cmd_prefix": "del ",
     "library": "var_list.py",
     "varRefreshCmd": "print(var_dic_list())"
    },
    "r": {
     "delete_cmd_postfix": ") ",
     "delete_cmd_prefix": "rm(",
     "library": "var_list.r",
     "varRefreshCmd": "cat(var_dic_list()) "
    }
   },
   "types_to_exclude": [
    "module",
    "function",
    "builtin_function_or_method",
    "instance",
    "_Feature"
   ],
   "window_display": false
  }
 },
 "nbformat": 4,
 "nbformat_minor": 4
}
